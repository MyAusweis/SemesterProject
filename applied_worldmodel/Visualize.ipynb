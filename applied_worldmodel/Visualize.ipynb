{
 "cells": [
  {
   "cell_type": "code",
   "execution_count": 1,
   "metadata": {},
   "outputs": [
    {
     "name": "stderr",
     "output_type": "stream",
     "text": [
      "Using TensorFlow backend.\n"
     ]
    }
   ],
   "source": [
    "from __future__ import print_function\n",
    "from ipywidgets import interact, interactive, fixed, interact_manual\n",
    "import ipywidgets as widgets\n",
    "\n",
    "import matplotlib.pyplot as plt\n",
    "%matplotlib inline\n",
    "import numpy as np\n",
    "import random\n",
    "from vae.arch import VAE\n",
    "\n",
    "from os import listdir\n",
    "from os.path import isfile, join\n",
    "\n",
    "import cv2\n",
    "\n"
   ]
  },
  {
   "cell_type": "code",
   "execution_count": 2,
   "metadata": {},
   "outputs": [],
   "source": [
    "import tensorflow as tf\n",
    "gpu_options = tf.GPUOptions(per_process_gpu_memory_fraction=0.05)\n",
    "sess = tf.Session(config=tf.ConfigProto(gpu_options=gpu_options))\n"
   ]
  },
  {
   "cell_type": "code",
   "execution_count": 3,
   "metadata": {},
   "outputs": [],
   "source": [
    "data = np.load('./data/obs_valid.npz')[\"arr_0\"]\n",
    "data = np.array([item for obs in data for item in obs])\n",
    "# np.savez_compressed('./data/obs_valid', data[:600])"
   ]
  },
  {
   "cell_type": "code",
   "execution_count": 4,
   "metadata": {},
   "outputs": [
    {
     "name": "stdout",
     "output_type": "stream",
     "text": [
      "(12320, 64, 64, 3)\n"
     ]
    }
   ],
   "source": [
    "print(data.shape)\n"
   ]
  },
  {
   "cell_type": "code",
   "execution_count": 6,
   "metadata": {},
   "outputs": [
    {
     "data": {
      "application/vnd.jupyter.widget-view+json": {
       "model_id": "7d2238e12c6745309b3edcb93baca002",
       "version_major": 2,
       "version_minor": 0
      },
      "text/plain": [
       "Dropdown(description='Weight file:', options=('good.h5', 'weights.h5', 'weights_VAE-original-date:2019-03-19 1…"
      ]
     },
     "metadata": {},
     "output_type": "display_data"
    }
   ],
   "source": [
    "path = \"./vae/\"\n",
    "files = [f for f in listdir(path)  if f[-3:] == \".h5\"]\n",
    "files.sort()\n",
    "dropdown = widgets.Dropdown(\n",
    "    options=files,\n",
    "    description='Weight file:',\n",
    ")\n",
    "display(dropdown)"
   ]
  },
  {
   "cell_type": "code",
   "execution_count": 7,
   "metadata": {},
   "outputs": [],
   "source": [
    "vae = VAE()\n",
    "vae.set_weights(\"./vae/\" + dropdown.value)\n",
    "# vae.model.summary()\n"
   ]
  },
  {
   "cell_type": "code",
   "execution_count": 8,
   "metadata": {},
   "outputs": [
    {
     "data": {
      "image/png": "[encoded data removed]",
      "text/plain": [
       "<Figure size 1080x1080 with 2 Axes>"
      ]
     },
     "metadata": {
      "needs_background": "light"
     },
     "output_type": "display_data"
    }
   ],
   "source": [
    "def compare(index):\n",
    "    f, axarr = plt.subplots(1, 2, figsize=(15,15))\n",
    "    img = data[index]\n",
    "\n",
    "    axarr[0].imshow(img)\n",
    "\n",
    "    dream_img = vae.model.predict(x = np.expand_dims(img, axis=0))\n",
    "    axarr[1].imshow(dream_img[0])\n",
    "    \n",
    "\n",
    "#30, 46, 70, 545\n",
    "compare(30)\n"
   ]
  },
  {
   "cell_type": "code",
   "execution_count": 17,
   "metadata": {},
   "outputs": [
    {
     "data": {
      "application/vnd.jupyter.widget-view+json": {
       "model_id": "c3b73b9667ef46c6994f80638a606f8c",
       "version_major": 2,
       "version_minor": 0
      },
      "text/plain": [
       "VBox(children=(interactive(children=(IntSlider(value=0, continuous_update=False, description='index', layout=L…"
      ]
     },
     "metadata": {},
     "output_type": "display_data"
    }
   ],
   "source": [
    "img = data[30]\n",
    "latent = vae.encoder.predict(x = np.expand_dims(img, axis=0))\n",
    "index = 0\n",
    "\n",
    "def draw():\n",
    "    f, axarr = plt.subplots(1, 2, figsize=(15,15))\n",
    "    axarr[0].imshow(img)\n",
    "    dream_img = vae.decoder.predict(x = latent)\n",
    "    axarr[1].imshow(dream_img[0])\n",
    "\n",
    "def change_index(ivalue):\n",
    "    global index, value_slider\n",
    "    index = ivalue\n",
    "    value_slider.value=latent[0][index]\n",
    "    \n",
    "def change_value(value):\n",
    "    global latent\n",
    "    latent[0][index] = value\n",
    "    draw()\n",
    "\n",
    "index_slider = widgets.IntSlider(description=\"index\", readout=True, min=0, max=len(latent[0])-1, value=0, \n",
    "                                    continuous_update=False, orientation=\"horizontal\", layout={'width':'90%'})\n",
    "iindex = interactive(change_index, ivalue=index_slider)\n",
    "value_slider = widgets.FloatSlider(readout=True, min=-3, max=3, value=latent[0][index], \n",
    "                                    continuous_update=False, orientation=\"horizontal\", layout={'width':'90%'})\n",
    "ivalue = interactive(change_value, value=value_slider)\n",
    "vbox = widgets.VBox([iindex, ivalue])\n",
    "\n",
    "display(vbox)\n",
    "# good.h5: 9: -1,3"
   ]
  },
  {
   "cell_type": "code",
   "execution_count": 12,
   "metadata": {},
   "outputs": [],
   "source": [
    "def create_video(vae, data):\n",
    "    writer = cv2.VideoWriter('demo.avi', 0, 30, (128, 64))\n",
    "\n",
    "    for i in range(0, 200):\n",
    "        img = data[i]\n",
    "        predicted = np.uint8(vae.model.predict(x = np.expand_dims(img, axis=0))[0][...,[2,1,0]] * 255)\n",
    "        img = np.uint8(img[...,[2,1,0]] * 255)\n",
    "        frame = np.append(img, predicted, axis = 1)\n",
    "        writer.write(frame)"
   ]
  },
  {
   "cell_type": "code",
   "execution_count": null,
   "metadata": {},
   "outputs": [],
   "source": [
    "create_video(vae, data)"
   ]
  },
  {
   "cell_type": "code",
   "execution_count": null,
   "metadata": {},
   "outputs": [],
   "source": [
    "#%%javascript\n",
    "#Jupyter.notebook.session.delete();"
   ]
  }
 ],
 "metadata": {
  "kernelspec": {
   "display_name": "Python 3",
   "language": "python",
   "name": "python3"
  },
  "language_info": {
   "codemirror_mode": {
    "name": "ipython",
    "version": 3
   },
   "file_extension": ".py",
   "mimetype": "text/x-python",
   "name": "python",
   "nbconvert_exporter": "python",
   "pygments_lexer": "ipython3",
   "version": "3.5.2"
  }
 },
 "nbformat": 4,
 "nbformat_minor": 1
}
