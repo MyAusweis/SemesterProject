{
 "cells": [
  {
   "cell_type": "code",
   "execution_count": 1,
   "metadata": {},
   "outputs": [
    {
     "name": "stderr",
     "output_type": "stream",
     "text": [
      "Using TensorFlow backend.\n"
     ]
    }
   ],
   "source": [
    "from __future__ import print_function\n",
    "from ipywidgets import interact, interactive, fixed, interact_manual\n",
    "import ipywidgets as widgets\n",
    "\n",
    "import matplotlib.pyplot as plt\n",
    "%matplotlib inline\n",
    "import numpy as np\n",
    "import random\n",
    "from rnn.arch import RNN\n",
    "from vae.arch import VAE\n",
    "\n",
    "from os import listdir\n",
    "from os.path import isfile, join\n",
    "\n",
    "import cv2\n",
    "\n"
   ]
  },
  {
   "cell_type": "code",
   "execution_count": 2,
   "metadata": {},
   "outputs": [],
   "source": [
    "import tensorflow as tf\n",
    "gpu_options = tf.GPUOptions(per_process_gpu_memory_fraction=0.05)\n",
    "sess = tf.Session(config=tf.ConfigProto(gpu_options=gpu_options))\n"
   ]
  },
  {
   "cell_type": "code",
   "execution_count": 3,
   "metadata": {},
   "outputs": [],
   "source": [
    "data = np.load('./data/rnn_input_car_racing_valid.npz')[\"arr_0\"]\n",
    "data = np.array([obs for obs in data])\n",
    "# np.savez_compressed('./data/obs_valid', data[:600])"
   ]
  },
  {
   "cell_type": "code",
   "execution_count": 4,
   "metadata": {},
   "outputs": [
    {
     "name": "stdout",
     "output_type": "stream",
     "text": [
      "(59, 199, 35)\n"
     ]
    }
   ],
   "source": [
    "print(data.shape)\n"
   ]
  },
  {
   "cell_type": "code",
   "execution_count": 5,
   "metadata": {},
   "outputs": [
    {
     "data": {
      "application/vnd.jupyter.widget-view+json": {
       "model_id": "e1941d1a7e044b959a233435f43d1259",
       "version_major": 2,
       "version_minor": 0
      },
      "text/plain": [
       "Dropdown(description='Weight file:', options=('good_original.h5', 'good_simple.h5', 'weights.h5', 'weights_RNN…"
      ]
     },
     "metadata": {},
     "output_type": "display_data"
    }
   ],
   "source": [
    "path = \"./rnn/\"\n",
    "files = [f for f in listdir(path)  if f[-3:] == \".h5\"]\n",
    "files.sort()\n",
    "dropdown = widgets.Dropdown(\n",
    "    options=files,\n",
    "    description='Weight file:',\n",
    ")\n",
    "display(dropdown)"
   ]
  },
  {
   "cell_type": "code",
   "execution_count": 6,
   "metadata": {},
   "outputs": [
    {
     "name": "stdout",
     "output_type": "stream",
     "text": [
      "WARNING:tensorflow:From /usr/local/lib/python3.6/dist-packages/tensorflow/python/framework/op_def_library.py:263: colocate_with (from tensorflow.python.framework.ops) is deprecated and will be removed in a future version.\n",
      "Instructions for updating:\n",
      "Colocations handled automatically by placer.\n",
      "_________________________________________________________________\n",
      "Layer (type)                 Output Shape              Param #   \n",
      "=================================================================\n",
      "input_1 (InputLayer)         (None, None, 35)          0         \n",
      "_________________________________________________________________\n",
      "lstm_1 (LSTM)                (None, None, 300)         403200    \n",
      "_________________________________________________________________\n",
      "dense_1 (Dense)              (None, None, 32)          9632      \n",
      "=================================================================\n",
      "Total params: 412,832\n",
      "Trainable params: 412,832\n",
      "Non-trainable params: 0\n",
      "_________________________________________________________________\n",
      "_________________________________________________________________\n",
      "Layer (type)                 Output Shape              Param #   \n",
      "=================================================================\n",
      "input_3 (InputLayer)         (None, 32)                0         \n",
      "_________________________________________________________________\n",
      "dense_4 (Dense)              (None, 1024)              33792     \n",
      "_________________________________________________________________\n",
      "reshape_1 (Reshape)          (None, 1, 1, 1024)        0         \n",
      "_________________________________________________________________\n",
      "conv2d_transpose_1 (Conv2DTr (None, 5, 5, 128)         3276928   \n",
      "_________________________________________________________________\n",
      "conv2d_transpose_2 (Conv2DTr (None, 13, 13, 64)        204864    \n",
      "_________________________________________________________________\n",
      "conv2d_transpose_3 (Conv2DTr (None, 30, 30, 32)        73760     \n",
      "_________________________________________________________________\n",
      "conv2d_transpose_4 (Conv2DTr (None, 64, 64, 3)         3459      \n",
      "=================================================================\n",
      "Total params: 3,592,803\n",
      "Trainable params: 3,592,803\n",
      "Non-trainable params: 0\n",
      "_________________________________________________________________\n"
     ]
    }
   ],
   "source": [
    "rnn = RNN()\n",
    "rnn.set_weights(\"./rnn/\" + dropdown.value)\n",
    "rnn.model.summary()\n",
    "# rnn.forward.summary()\n",
    "\n",
    "vae = VAE()\n",
    "vae.set_weights(\"./vae/final.h5\")\n",
    "vae.decoder.summary()\n"
   ]
  },
  {
   "cell_type": "code",
   "execution_count": 8,
   "metadata": {},
   "outputs": [
    {
     "data": {
      "text/plain": [
       "<matplotlib.image.AxesImage at 0x7f89bc038438>"
      ]
     },
     "execution_count": 8,
     "metadata": {},
     "output_type": "execute_result"
    },
    {
     "data": {
      "image/png": "[encoded data removed]",
      "text/plain": [
       "<Figure size 1080x1080 with 2 Axes>"
      ]
     },
     "metadata": {
      "needs_background": "light"
     },
     "output_type": "display_data"
    }
   ],
   "source": [
    "def compare_rnn(episode_index, frame_index, latency = 1):\n",
    "    episode = data[episode_index]\n",
    "    frames = episode[:frame_index]\n",
    "    latents = frames[:, :-3]\n",
    "#     print(latents.shape)\n",
    "    img = vae.decoder.predict(latents)[-1]\n",
    "#     print(img.shape)\n",
    "#     print(frames.shape)\n",
    "    for i in range(latency):\n",
    "        next_latent = rnn.model.predict(x = np.expand_dims(frames, axis = 0))[0][-1]\n",
    "        frames = np.append(frames, [np.append(next_latent, [1,0,0])], axis = 0)\n",
    "    next_img = vae.decoder.predict(np.expand_dims(next_latent, axis = 0))[0]\n",
    "#     print(next_img.shape)\n",
    "    return img, next_img\n",
    " \n",
    "\n",
    "f, axarr = plt.subplots(1, 2, figsize=(15,15))\n",
    "left, right = compare_rnn(0, 10, 10)\n",
    "axarr[0].imshow(left)\n",
    "axarr[1].imshow(right)\n"
   ]
  },
  {
   "cell_type": "code",
   "execution_count": 9,
   "metadata": {},
   "outputs": [],
   "source": [
    "def create_video(episode_index, latency):\n",
    "    writer = cv2.VideoWriter(\"rnn_demo_\"+ str(episode_index) + \"_\" + str(latency) + \".avi\", 0, 30, (128, 64))\n",
    "\n",
    "    for i in range(1, 199):\n",
    "        left, right = compare_rnn(episode_index, i, latency)\n",
    "        left = np.uint8(left[...,[2,1,0]] * 255)\n",
    "        right = np.uint8(right[...,[2,1,0]] * 255)\n",
    "        frame = np.append(left, right, axis = 1)\n",
    "        writer.write(frame)\n",
    "        writer.write(frame)"
   ]
  },
  {
   "cell_type": "code",
   "execution_count": 10,
   "metadata": {},
   "outputs": [],
   "source": [
    "create_video(1, 11)"
   ]
  },
  {
   "cell_type": "code",
   "execution_count": null,
   "metadata": {},
   "outputs": [],
   "source": [
    "#%%javascript\n",
    "#Jupyter.notebook.session.delete();"
   ]
  }
 ],
 "metadata": {
  "kernelspec": {
   "display_name": "Python 3",
   "language": "python",
   "name": "python3"
  },
  "language_info": {
   "codemirror_mode": {
    "name": "ipython",
    "version": 3
   },
   "file_extension": ".py",
   "mimetype": "text/x-python",
   "name": "python",
   "nbconvert_exporter": "python",
   "pygments_lexer": "ipython3",
   "version": "3.6.7"
  }
 },
 "nbformat": 4,
 "nbformat_minor": 1
}
